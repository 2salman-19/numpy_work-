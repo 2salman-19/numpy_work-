{
 "cells": [
  {
   "cell_type": "code",
   "execution_count": 5,
   "metadata": {
    "id": "YAvC8k1FKC6i"
   },
   "outputs": [],
   "source": [
    "import numpy as np"
   ]
  },
  {
   "cell_type": "markdown",
   "metadata": {
    "id": "z-ttfWOCWYAD"
   },
   "source": [
    "### Basic Array Creation"
   ]
  },
  {
   "cell_type": "markdown",
   "metadata": {
    "id": "ZksDKlwjHvFV"
   },
   "source": [
    "# Creatation of List\n",
    "create List in python? # Check Type of list"
   ]
  },
  {
   "cell_type": "code",
   "execution_count": 3,
   "metadata": {
    "id": "mCgQsxXkF3nb"
   },
   "outputs": [
    {
     "name": "stdout",
     "output_type": "stream",
     "text": [
      "type: <class 'list'>\n"
     ]
    }
   ],
   "source": [
    "#create list \n",
    "list=[1,2,3,4,5,6,7,8]\n",
    "print(\"type:\", type(list))\n"
   ]
  },
  {
   "cell_type": "markdown",
   "metadata": {
    "id": "M2TOiuioIc6M"
   },
   "source": [
    "# Creatation of Arrays\n",
    "1.Create an array containing 10 elements \n",
    "\n",
    "2.Checking array \"TYPE\"\n",
    "\n",
    "3.Check data type of array elements\n",
    "\n",
    "4.Array dim\n",
    "\n",
    "5.Array Shape\n",
    "\n",
    "6.Bytes per element\n",
    "\n",
    "7.Total bytes in an Array"
   ]
  },
  {
   "cell_type": "code",
   "execution_count": 15,
   "metadata": {
    "id": "uy_hPIW4A4uM"
   },
   "outputs": [
    {
     "data": {
      "text/plain": [
       "array([0, 1, 2, 3, 4, 5, 6, 7, 8, 9])"
      ]
     },
     "execution_count": 15,
     "metadata": {},
     "output_type": "execute_result"
    }
   ],
   "source": [
    "# Create 'int' array and repeat above mention steps 1-7\n",
    "# Answer Here\n",
    "#1.Create an array containing 10 elements\n",
    "a=np.array([0,1,2,3,4,5,6,7,8,9])\n",
    "a"
   ]
  },
  {
   "cell_type": "code",
   "execution_count": 16,
   "metadata": {},
   "outputs": [
    {
     "data": {
      "text/plain": [
       "numpy.ndarray"
      ]
     },
     "execution_count": 16,
     "metadata": {},
     "output_type": "execute_result"
    }
   ],
   "source": [
    "#2.Checking array \"TYPE\"\n",
    "type(a)"
   ]
  },
  {
   "cell_type": "code",
   "execution_count": 17,
   "metadata": {},
   "outputs": [
    {
     "data": {
      "text/plain": [
       "dtype('int32')"
      ]
     },
     "execution_count": 17,
     "metadata": {},
     "output_type": "execute_result"
    }
   ],
   "source": [
    "#3.Check data type of array elements\n",
    "a.dtype"
   ]
  },
  {
   "cell_type": "code",
   "execution_count": 18,
   "metadata": {},
   "outputs": [
    {
     "data": {
      "text/plain": [
       "1"
      ]
     },
     "execution_count": 18,
     "metadata": {},
     "output_type": "execute_result"
    }
   ],
   "source": [
    "#4.Array dim\n",
    "a.ndim"
   ]
  },
  {
   "cell_type": "code",
   "execution_count": 19,
   "metadata": {},
   "outputs": [
    {
     "data": {
      "text/plain": [
       "(10,)"
      ]
     },
     "execution_count": 19,
     "metadata": {},
     "output_type": "execute_result"
    }
   ],
   "source": [
    "#5.Array Shape\n",
    "a.shape"
   ]
  },
  {
   "cell_type": "code",
   "execution_count": 20,
   "metadata": {},
   "outputs": [
    {
     "data": {
      "text/plain": [
       "4"
      ]
     },
     "execution_count": 20,
     "metadata": {},
     "output_type": "execute_result"
    }
   ],
   "source": [
    "#6.Bytes per element\n",
    "a.itemsize"
   ]
  },
  {
   "cell_type": "code",
   "execution_count": 21,
   "metadata": {},
   "outputs": [
    {
     "data": {
      "text/plain": [
       "40"
      ]
     },
     "execution_count": 21,
     "metadata": {},
     "output_type": "execute_result"
    }
   ],
   "source": [
    "#7.Total bytes in an Array\n",
    "a.nbytes"
   ]
  },
  {
   "cell_type": "code",
   "execution_count": 22,
   "metadata": {
    "id": "tf9pmYpYLuEu"
   },
   "outputs": [
    {
     "data": {
      "text/plain": [
       "array([1.2, 0.4, 9.1, 8.8, 5.6, 7.9, 8.4, 2.4, 6.1, 0.5])"
      ]
     },
     "execution_count": 22,
     "metadata": {},
     "output_type": "execute_result"
    }
   ],
   "source": [
    "# Create 'float' array and repeat above mention steps 1-7\n",
    "#Answer Here\n",
    "#1.Create an array containing 10 elements\n",
    "b=np.array([1.2,0.4,9.1,8.8,5.6,7.9,8.4,2.4,6.1,0.5])\n",
    "b"
   ]
  },
  {
   "cell_type": "code",
   "execution_count": 23,
   "metadata": {},
   "outputs": [
    {
     "data": {
      "text/plain": [
       "numpy.ndarray"
      ]
     },
     "execution_count": 23,
     "metadata": {},
     "output_type": "execute_result"
    }
   ],
   "source": [
    "#2.Checking array \"TYPE\"\n",
    "type(b)"
   ]
  },
  {
   "cell_type": "code",
   "execution_count": 24,
   "metadata": {},
   "outputs": [
    {
     "data": {
      "text/plain": [
       "dtype('float64')"
      ]
     },
     "execution_count": 24,
     "metadata": {},
     "output_type": "execute_result"
    }
   ],
   "source": [
    "#3.Check data type of array elements\n",
    "b.dtype"
   ]
  },
  {
   "cell_type": "code",
   "execution_count": 25,
   "metadata": {},
   "outputs": [
    {
     "data": {
      "text/plain": [
       "1"
      ]
     },
     "execution_count": 25,
     "metadata": {},
     "output_type": "execute_result"
    }
   ],
   "source": [
    "#4.Array dim\n",
    "b.ndim"
   ]
  },
  {
   "cell_type": "code",
   "execution_count": 26,
   "metadata": {},
   "outputs": [
    {
     "data": {
      "text/plain": [
       "(10,)"
      ]
     },
     "execution_count": 26,
     "metadata": {},
     "output_type": "execute_result"
    }
   ],
   "source": [
    "#5.Array Shape\n",
    "b.shape"
   ]
  },
  {
   "cell_type": "code",
   "execution_count": 27,
   "metadata": {},
   "outputs": [
    {
     "data": {
      "text/plain": [
       "8"
      ]
     },
     "execution_count": 27,
     "metadata": {},
     "output_type": "execute_result"
    }
   ],
   "source": [
    "#6.Bytes per element\n",
    "b.itemsize"
   ]
  },
  {
   "cell_type": "code",
   "execution_count": 28,
   "metadata": {},
   "outputs": [
    {
     "data": {
      "text/plain": [
       "80"
      ]
     },
     "execution_count": 28,
     "metadata": {},
     "output_type": "execute_result"
    }
   ],
   "source": [
    "#7.Total bytes in an Array\n",
    "b.nbytes"
   ]
  },
  {
   "cell_type": "markdown",
   "metadata": {
    "id": "czi-ntWzFJ0M"
   },
   "source": [
    "-Try to assign a float into an int32\n",
    "\n",
    "-Use .fill function # fill has the same behavior\n"
   ]
  },
  {
   "cell_type": "code",
   "execution_count": 29,
   "metadata": {
    "id": "5r2iCLhHFq_-"
   },
   "outputs": [
    {
     "data": {
      "text/plain": [
       "array([1, 0, 9, 8, 5, 7, 8, 2, 6, 0])"
      ]
     },
     "execution_count": 29,
     "metadata": {},
     "output_type": "execute_result"
    }
   ],
   "source": [
    "# Answer here\n",
    "z=np.array([1.2,0.4,9.1,8.8,5.6,7.9,8.4,2.4,6.1,0.5])\n",
    "ab=np.empty_like(z, dtype=np.int32)\n",
    "ab.fill(0)\n",
    "ab=z.astype(np.int32)\n",
    "ab"
   ]
  },
  {
   "cell_type": "markdown",
   "metadata": {
    "id": "UK4-Grt0F8_k"
   },
   "source": [
    "-. Add two  arrays\n",
    "\n",
    "-. Multiple both arrays\n",
    "\n",
    "-.Use ** operator in array operation\n",
    "\n",
    "-.Create array from 0.0 to 11.0\n",
    "\n",
    "-.Multiply entire array with a scalar value\n",
    " c = (2.0 * np.pi)\n",
    "\n",
    "-.Use np.arrange function to create an array with step of 0.5 from 1.0 to 3.0"
   ]
  },
  {
   "cell_type": "code",
   "execution_count": 32,
   "metadata": {
    "id": "1cRgGYTdGayU"
   },
   "outputs": [],
   "source": [
    "# Answer Here\n",
    "#array 1\n",
    "d=np.array([2,3,4,5])\n",
    "#array 2\n",
    "s=np.array([6,7,8,9])"
   ]
  },
  {
   "cell_type": "code",
   "execution_count": 31,
   "metadata": {},
   "outputs": [
    {
     "data": {
      "text/plain": [
       "array([ 8, 10, 12, 14])"
      ]
     },
     "execution_count": 31,
     "metadata": {},
     "output_type": "execute_result"
    }
   ],
   "source": [
    "#-. Add two arrays\n",
    "d+s"
   ]
  },
  {
   "cell_type": "code",
   "execution_count": 33,
   "metadata": {},
   "outputs": [
    {
     "data": {
      "text/plain": [
       "array([12, 21, 32, 45])"
      ]
     },
     "execution_count": 33,
     "metadata": {},
     "output_type": "execute_result"
    }
   ],
   "source": [
    "#-. Multiple both arrays\n",
    "d*s"
   ]
  },
  {
   "cell_type": "code",
   "execution_count": 34,
   "metadata": {},
   "outputs": [
    {
     "data": {
      "text/plain": [
       "array([     64,    2187,   65536, 1953125])"
      ]
     },
     "execution_count": 34,
     "metadata": {},
     "output_type": "execute_result"
    }
   ],
   "source": [
    "#-.Use ** operator in array operation\n",
    "d**s"
   ]
  },
  {
   "cell_type": "code",
   "execution_count": 41,
   "metadata": {},
   "outputs": [
    {
     "data": {
      "text/plain": [
       "array([ 0.,  1.,  2.,  3.,  4.,  5.,  6.,  7.,  8.,  9., 10., 11.])"
      ]
     },
     "execution_count": 41,
     "metadata": {},
     "output_type": "execute_result"
    }
   ],
   "source": [
    "#-.Create array from 0.0 to 11.0\n",
    "e=np.arange(12.0)\n",
    "e"
   ]
  },
  {
   "cell_type": "code",
   "execution_count": 44,
   "metadata": {},
   "outputs": [
    {
     "data": {
      "text/plain": [
       "array([0.        , 0.62831853, 1.25663706, 1.88495559, 2.51327412,\n",
       "       3.14159265, 3.76991118, 4.39822972, 5.02654825, 5.65486678,\n",
       "       6.28318531, 6.91150384])"
      ]
     },
     "execution_count": 44,
     "metadata": {},
     "output_type": "execute_result"
    }
   ],
   "source": [
    "#-.Multiply entire array with a scalar value c = (2.0 * np.pi)\n",
    "c=(2.0* np.pi)/10.0\n",
    "f=c*e\n",
    "f"
   ]
  },
  {
   "cell_type": "code",
   "execution_count": 45,
   "metadata": {},
   "outputs": [
    {
     "data": {
      "text/plain": [
       "array([1. , 1.5, 2. , 2.5])"
      ]
     },
     "execution_count": 45,
     "metadata": {},
     "output_type": "execute_result"
    }
   ],
   "source": [
    "g=np.arange(1.0,3.0,0.5)\n",
    "g"
   ]
  },
  {
   "cell_type": "markdown",
   "metadata": {
    "id": "60fA9aHmI0g_"
   },
   "source": [
    "# Slicing\n",
    "var[lower:upper:step]\n",
    "• Extracts a portion of a sequence by specifying a lower and upper bound.\n",
    "\n",
    "• The lower-bound element is included, but the upper-bound element is not included.\n",
    "\n",
    "• Mathematically: [lower, upper). The step value specifies the stride between elements.\n",
    "\n",
    "1. Etract array indices from 1 to 3:\n",
    "2. Use negative indices as well\n",
    "3. Omitted boundaries are assumed to be the beginning (or end) of the array grab first three elements\n",
    "4. Grab last two elements\n",
    "5. Grab every other element\n",
    "6. slicing the last two elements returns the data there\n",
    "7. Can we insert an iterable of length two? or a scalar value\n",
    "8.Arrays created by slicing share data with the originating array. Changing values in a slice also changes the original array.\n",
    "For example create a slice containing two elements of a changing b changed a! Have an experiment\n",
    "9. if an array a = [[0, 1, 2, 3, 4],[1, 2, 3, 4, 5]] extract values from row 3 to onward and from col 0, 2 and 5\n",
    "10. Perform some masking on a = np.arange(0,36).reshape(6,6)\n",
    "with mask = np.array([1, 0, 1, 0, 0, 1])\n"
   ]
  },
  {
   "cell_type": "code",
   "execution_count": 46,
   "metadata": {
    "id": "CVqexfEBMB-w"
   },
   "outputs": [
    {
     "data": {
      "text/plain": [
       "array([6, 7])"
      ]
     },
     "execution_count": 46,
     "metadata": {},
     "output_type": "execute_result"
    }
   ],
   "source": [
    "# code here\n",
    "#Etract array indices from 1 to 3:\n",
    "h=np.array([5,6,7,8,9])\n",
    "h[1:3]"
   ]
  },
  {
   "cell_type": "code",
   "execution_count": 47,
   "metadata": {},
   "outputs": [
    {
     "data": {
      "text/plain": [
       "array([6, 7])"
      ]
     },
     "execution_count": 47,
     "metadata": {},
     "output_type": "execute_result"
    }
   ],
   "source": [
    "#negtive indices\n",
    "h[1:-2]"
   ]
  },
  {
   "cell_type": "code",
   "execution_count": 49,
   "metadata": {},
   "outputs": [
    {
     "data": {
      "text/plain": [
       "array([5, 6, 7])"
      ]
     },
     "execution_count": 49,
     "metadata": {},
     "output_type": "execute_result"
    }
   ],
   "source": [
    "#3. Omitted boundaries are assumed to be the beginning (or end) of the array grab first three elements\n",
    "h[:3]"
   ]
  },
  {
   "cell_type": "code",
   "execution_count": 53,
   "metadata": {},
   "outputs": [
    {
     "data": {
      "text/plain": [
       "array([8, 9])"
      ]
     },
     "execution_count": 53,
     "metadata": {},
     "output_type": "execute_result"
    }
   ],
   "source": [
    "#4. Grab last two elements\n",
    "h[-2:]"
   ]
  },
  {
   "cell_type": "code",
   "execution_count": 54,
   "metadata": {},
   "outputs": [
    {
     "data": {
      "text/plain": [
       "array([5, 7, 9])"
      ]
     },
     "execution_count": 54,
     "metadata": {},
     "output_type": "execute_result"
    }
   ],
   "source": [
    "#5. Grab every other element\n",
    "h[::2]"
   ]
  },
  {
   "cell_type": "code",
   "execution_count": 55,
   "metadata": {},
   "outputs": [
    {
     "data": {
      "text/plain": [
       "array([8, 9])"
      ]
     },
     "execution_count": 55,
     "metadata": {},
     "output_type": "execute_result"
    }
   ],
   "source": [
    "#6. slicing the last two elements returns the data there\n",
    "h[-2:]"
   ]
  },
  {
   "cell_type": "code",
   "execution_count": 58,
   "metadata": {},
   "outputs": [
    {
     "data": {
      "text/plain": [
       "array([ 0,  1,  2, -1, -2])"
      ]
     },
     "execution_count": 58,
     "metadata": {},
     "output_type": "execute_result"
    }
   ],
   "source": [
    "#7. Can we insert an iterable of length two? or a scalar value\n",
    "i= np.array([0, 1, 2, 3, 4])\n",
    "# we can insert an iterable of length two\n",
    "i[-2:] = [-1, -2]\n",
    "i"
   ]
  },
  {
   "cell_type": "code",
   "execution_count": 59,
   "metadata": {},
   "outputs": [
    {
     "data": {
      "text/plain": [
       "array([ 0,  1,  2, 99, 99])"
      ]
     },
     "execution_count": 59,
     "metadata": {},
     "output_type": "execute_result"
    }
   ],
   "source": [
    "# or a scalar value\n",
    "i[-2:] = 99\n",
    "i\n"
   ]
  },
  {
   "cell_type": "code",
   "execution_count": 69,
   "metadata": {},
   "outputs": [
    {
     "name": "stdout",
     "output_type": "stream",
     "text": [
      "[2 3]\n",
      "[10  3]\n"
     ]
    },
    {
     "data": {
      "text/plain": [
       "True"
      ]
     },
     "execution_count": 69,
     "metadata": {},
     "output_type": "execute_result"
    }
   ],
   "source": [
    "#8.Arrays created by slicing share data with the originating array. Changing values in a slice also changes the original array.For example create a slice containing two elements of a changing b changed a! Have an experiment\n",
    "k= np.array([0, 1, 2, 3, 4])\n",
    "# create a slice containing two elements of a\n",
    "l=k[2:4]\n",
    "print(l)\n",
    "l[0] = 10\n",
    "print(l)\n",
    "# changing b changed a!\n",
    "k\n",
    "np.shares_memory(k, l)"
   ]
  },
  {
   "cell_type": "code",
   "execution_count": 77,
   "metadata": {},
   "outputs": [
    {
     "data": {
      "text/plain": [
       "array([[18, 20, 23],\n",
       "       [24, 26, 29]])"
      ]
     },
     "execution_count": 77,
     "metadata": {},
     "output_type": "execute_result"
    }
   ],
   "source": [
    "#9.extract values from row 3 to onward and from col 0, 2 and 5\n",
    "m=np.array([[0, 1, 2, 3, 4, 5],\n",
    "              [6, 7, 8, 9, 10, 11],\n",
    "              [12, 13, 14, 15, 16, 17],\n",
    "              [18, 19, 20, 21, 22, 23],\n",
    "              [24, 25, 26, 27, 28, 29]])\n",
    "n=m[3:, [0, 2, 5]]\n",
    "n"
   ]
  },
  {
   "cell_type": "code",
   "execution_count": 82,
   "metadata": {},
   "outputs": [],
   "source": [
    "#10.Perform some masking on a = np.arange(0,36).reshape(6,6)with mask = np.array([1, 0, 1, 0, 0, 1])\n",
    "o=np.arange(0,36).reshape(6,6)\n"
   ]
  },
  {
   "cell_type": "code",
   "execution_count": 83,
   "metadata": {},
   "outputs": [],
   "source": [
    "# manual creation of masks\n",
    "mask = np.array([1, 0, 1, 0, 0, 1],dtype=bool)"
   ]
  },
  {
   "cell_type": "code",
   "execution_count": 89,
   "metadata": {},
   "outputs": [
    {
     "name": "stdout",
     "output_type": "stream",
     "text": [
      "orignal array:\n",
      " [[ 0  1  2  3  4  5]\n",
      " [ 6  7  8  9 10 11]\n",
      " [12 13 14 15 16 17]\n",
      " [18 19 20 21 22 23]\n",
      " [24 25 26 27 28 29]\n",
      " [30 31 32 33 34 35]]\n",
      "mask_array:\n",
      " [[ 0  1  2  3  4  5]\n",
      " [12 13 14 15 16 17]\n",
      " [30 31 32 33 34 35]]\n"
     ]
    }
   ],
   "source": [
    "mask_array=o[mask]\n",
    "print(\"orignal array:\\n\", o)\n",
    "print(\"mask_array:\\n\", mask_array)"
   ]
  },
  {
   "cell_type": "markdown",
   "metadata": {},
   "source": [
    "### Create a 2-D array where the first row goes from 10 to 80 exclusive with steps of 5 and 2nd row goes from 5 to 47 exclusive with steps of 3"
   ]
  },
  {
   "cell_type": "code",
   "execution_count": 19,
   "metadata": {},
   "outputs": [
    {
     "data": {
      "text/plain": [
       "array([[10, 15, 20, 25, 30, 35, 40, 45, 50, 55, 60, 65, 70, 75],\n",
       "       [ 5,  8, 11, 14, 17, 20, 23, 26, 29, 32, 35, 38, 41, 44]])"
      ]
     },
     "execution_count": 19,
     "metadata": {},
     "output_type": "execute_result"
    }
   ],
   "source": [
    "#code here\n",
    "q=np.array([[10,15, 20, 25, 30, 35, 40, 45, 50, 55, 60, 65 ,70 ,75],\n",
    " [5,8,11,14,17, 20, 23, 26, 29, 32, 35, 38, 41, 44]])\n",
    "#q.ndim\n",
    "#q.shape\n",
    "q"
   ]
  },
  {
   "cell_type": "markdown",
   "metadata": {},
   "source": [
    "### Now use indexing to select the 5th 7th and 11th columns"
   ]
  },
  {
   "cell_type": "code",
   "execution_count": 10,
   "metadata": {},
   "outputs": [
    {
     "data": {
      "text/plain": [
       "array([[30, 40, 60],\n",
       "       [17, 23, 35]])"
      ]
     },
     "execution_count": 10,
     "metadata": {},
     "output_type": "execute_result"
    }
   ],
   "source": [
    "# code here\n",
    "col=q[:,[4,6,10]]\n",
    "col"
   ]
  },
  {
   "cell_type": "markdown",
   "metadata": {},
   "source": [
    "### Select the 2nd row and fourth-last to second-last columns"
   ]
  },
  {
   "cell_type": "code",
   "execution_count": 11,
   "metadata": {},
   "outputs": [
    {
     "data": {
      "text/plain": [
       "array([35, 38, 41])"
      ]
     },
     "execution_count": 11,
     "metadata": {},
     "output_type": "execute_result"
    }
   ],
   "source": [
    "# code here\n",
    "q[1,-4:-1]"
   ]
  },
  {
   "cell_type": "markdown",
   "metadata": {},
   "source": [
    "### Select 3rd to 3rd last columns skipping every second column"
   ]
  },
  {
   "cell_type": "code",
   "execution_count": 12,
   "metadata": {},
   "outputs": [
    {
     "data": {
      "text/plain": [
       "array([[20, 30, 40, 50, 60],\n",
       "       [11, 17, 23, 29, 35]])"
      ]
     },
     "execution_count": 12,
     "metadata": {},
     "output_type": "execute_result"
    }
   ],
   "source": [
    "# code here\n",
    "q[:, 2:-2:2]"
   ]
  },
  {
   "cell_type": "markdown",
   "metadata": {},
   "source": [
    "###  Select 3rd to 3rd last columns skipping every second column but in reverse order"
   ]
  },
  {
   "cell_type": "code",
   "execution_count": null,
   "metadata": {},
   "outputs": [],
   "source": [
    "# code here"
   ]
  },
  {
   "cell_type": "markdown",
   "metadata": {
    "id": "uO-B0OXYWl7A"
   },
   "source": [
    "### Zip Operations on Numpy Arrays\n",
    "Use a zip function on two arrys.\n",
    "\n",
    "Create another array which would be the sum of corresponding elements of two arrays using for loop."
   ]
  },
  {
   "cell_type": "code",
   "execution_count": 17,
   "metadata": {
    "id": "QWAhbiOXHEc9"
   },
   "outputs": [
    {
     "name": "stdout",
     "output_type": "stream",
     "text": [
      "[(1, 2), (2, 3), (3, 4), (4, 5)]\n"
     ]
    }
   ],
   "source": [
    "t = [1, 2, 3, 4]\n",
    "w = [2, 3, 4, 5]\n",
    "zippp=zip(t,w)\n",
    "print(list(zippp))\n",
    "# Answer Here"
   ]
  },
  {
   "cell_type": "code",
   "execution_count": 18,
   "metadata": {
    "id": "ePXox_XHMQTr"
   },
   "outputs": [
    {
     "name": "stdout",
     "output_type": "stream",
     "text": [
      "[3, 5, 7, 9]\n"
     ]
    }
   ],
   "source": [
    "#For loop to add corresponding elements in two lists\n",
    "sum_array=[]\n",
    "for x, y in zip(t,w):\n",
    "    sum_array.append(x+y)\n",
    "print(sum_array)\n",
    "    \n",
    "# Answer Here"
   ]
  },
  {
   "cell_type": "code",
   "execution_count": null,
   "metadata": {},
   "outputs": [],
   "source": []
  }
 ],
 "metadata": {
  "colab": {
   "provenance": []
  },
  "kernelspec": {
   "display_name": "Python 3 (ipykernel)",
   "language": "python",
   "name": "python3"
  },
  "language_info": {
   "codemirror_mode": {
    "name": "ipython",
    "version": 3
   },
   "file_extension": ".py",
   "mimetype": "text/x-python",
   "name": "python",
   "nbconvert_exporter": "python",
   "pygments_lexer": "ipython3",
   "version": "3.9.12"
  }
 },
 "nbformat": 4,
 "nbformat_minor": 1
}
