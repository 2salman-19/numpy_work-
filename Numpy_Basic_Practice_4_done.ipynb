{
 "cells": [
  {
   "cell_type": "markdown",
   "id": "bac7cbe2",
   "metadata": {
    "id": "bac7cbe2"
   },
   "source": [
    "# Problem 1: Reshaping for Image Processing\n",
    "You are working on an image processing project, and you have a grayscale image represented as a 1D NumPy array **img_data** of size **(m * n)**, where m and n are the dimensions of the image. Write a function **reshape_image(img_data, new_shape)** that takes the original image data and a tuple representing the new shape **(p, q)** of the image. Ensure that the total number of pixels remains unchanged. If it's not possible to reshape without changing the total number of pixels, return **None**."
   ]
  },
  {
   "cell_type": "code",
   "execution_count": 1,
   "id": "89bf2b86",
   "metadata": {
    "id": "89bf2b86"
   },
   "outputs": [],
   "source": [
    "import numpy as np"
   ]
  },
  {
   "cell_type": "code",
   "execution_count": 30,
   "id": "9a7a3b17",
   "metadata": {
    "id": "9a7a3b17"
   },
   "outputs": [],
   "source": [
    "# Write your function in this cell\n",
    "def reshape_image(img_data,new_shape):\n",
    "    origjnal_img=img_data.size\n",
    "    print(\"imag size:\", origjnal_img)\n",
    "    new_img_shape=new_shape[1]*new_shape[0]\n",
    "    print(\"new shape size:\", new_img_shape)\n",
    "    if origjnal_img!= new_img_shape:\n",
    "        return None\n",
    "    reshape_image= img_data.reshape(new_shape)\n",
    "    return reshape_image\n",
    "    "
   ]
  },
  {
   "cell_type": "code",
   "execution_count": 32,
   "id": "6b60fb2d",
   "metadata": {},
   "outputs": [
    {
     "name": "stdout",
     "output_type": "stream",
     "text": [
      "Image data is:\n",
      " [ 0  1  2  3  4  5  6  7  8  9 10 11 12 13 14 15 16 17 18 19 20 21 22 23\n",
      " 24 25 26 27 28 29 30 31 32]\n",
      "imag size: 33\n",
      "new shape size: 33\n",
      "Result of Reshspe image:\n",
      " [[ 0  1  2]\n",
      " [ 3  4  5]\n",
      " [ 6  7  8]\n",
      " [ 9 10 11]\n",
      " [12 13 14]\n",
      " [15 16 17]\n",
      " [18 19 20]\n",
      " [21 22 23]\n",
      " [24 25 26]\n",
      " [27 28 29]\n",
      " [30 31 32]]\n"
     ]
    }
   ],
   "source": [
    "img_data = np.arange(33)# Assuming a 3x3 image\n",
    "print(\"Image data is:\\n\",img_data)\n",
    "new_shape = (11,3)\n",
    "\n",
    "result = reshape_image(img_data, new_shape)\n",
    "print(\"Result of Reshspe image:\\n\",result)"
   ]
  },
  {
   "cell_type": "markdown",
   "id": "f26eada3",
   "metadata": {
    "id": "f26eada3"
   },
   "source": [
    "# Problem 2: Matrix Transpose\n",
    "You are dealing with a dataset stored as a NumPy array **data_matrix** with dimensions **(m, n)**. Implement a function **transpose_matrix(data_matrix)** that returns the transpose of the given matrix."
   ]
  },
  {
   "cell_type": "code",
   "execution_count": 48,
   "id": "96da3b85",
   "metadata": {
    "id": "96da3b85"
   },
   "outputs": [],
   "source": [
    "# Write your function in this cell\\\n",
    "def transpose_matrix(data_matrix):\n",
    "    row= len(data_matrix)\n",
    "    col=len(data_matrix[0])\n",
    "    transposed_matrix = []\n",
    "    for j in range(col):\n",
    "        new_row=[]\n",
    "        for i in range(row):\n",
    "            new_row.append(data_matrix[i][j])\n",
    "        transposed_matrix.append(new_row)\n",
    "    return transposed_matrix  # Return the transposed matrix\n",
    "\n",
    "    \n"
   ]
  },
  {
   "cell_type": "code",
   "execution_count": 49,
   "id": "ae176a7e",
   "metadata": {
    "id": "ae176a7e"
   },
   "outputs": [
    {
     "name": "stdout",
     "output_type": "stream",
     "text": [
      "data matrix is : [[1 2 3]\n",
      " [4 5 6]]\n",
      "[[1, 4], [2, 5], [3, 6]]\n"
     ]
    },
    {
     "data": {
      "text/plain": [
       "array([[1, 2, 3],\n",
       "       [4, 5, 6]])"
      ]
     },
     "execution_count": 49,
     "metadata": {},
     "output_type": "execute_result"
    }
   ],
   "source": [
    "import numpy as np\n",
    "\n",
    "data_matrix = np.array([[1, 2, 3], [4, 5, 6]])\n",
    "print(\"data matrix is :\",data_matrix)\n",
    "transposer_matrix = transpose_matrix(data_matrix)\n",
    "print(transposer_matrix)\n",
    "data_matrix"
   ]
  },
  {
   "cell_type": "markdown",
   "id": "60caff17",
   "metadata": {
    "id": "60caff17"
   },
   "source": [
    "# Problem 3: Flattening for Data Processing\n",
    "You have a 2D array representing data from different sensors. Write a function **flatten_sensor_data(sensor_data)** that takes a 2D NumPy array representing the sensor readings and returns a flattened 1D array."
   ]
  },
  {
   "cell_type": "code",
   "execution_count": 84,
   "id": "2070bb01",
   "metadata": {
    "id": "2070bb01"
   },
   "outputs": [],
   "source": [
    "# Write your function in this cell\n",
    "def flatten_sensor_data(sensor_data):\n",
    "    data=sensor_data.flatten()\n",
    "    print(data)\n",
    "    print()\n",
    "    print(data.ndim)    "
   ]
  },
  {
   "cell_type": "code",
   "execution_count": 85,
   "id": "ddb929ee",
   "metadata": {
    "id": "ddb929ee"
   },
   "outputs": [
    {
     "name": "stdout",
     "output_type": "stream",
     "text": [
      "[10 20 30 40 50 60]\n",
      "\n",
      "1\n",
      "None\n"
     ]
    }
   ],
   "source": [
    "import numpy as np\n",
    "\n",
    "sensor_data = np.array([[10, 20, 30], [40, 50, 60]])\n",
    "flattened_data = flatten_sensor_data(sensor_data)\n",
    "print(flattened_data)"
   ]
  },
  {
   "cell_type": "code",
   "execution_count": 2,
   "id": "2d0f8543",
   "metadata": {},
   "outputs": [
    {
     "data": {
      "text/plain": [
       "array([[ 0,  1,  2,  3,  4],\n",
       "       [ 5,  6,  7,  8,  9],\n",
       "       [10, 11, 12, 13, 14],\n",
       "       [15, 16, 17, 18, 19],\n",
       "       [20, 21, 22, 23, 24]])"
      ]
     },
     "execution_count": 2,
     "metadata": {},
     "output_type": "execute_result"
    }
   ],
   "source": [
    "a= np.arange(25).reshape(5,5)\n",
    "a"
   ]
  },
  {
   "cell_type": "code",
   "execution_count": 30,
   "id": "753b4a8d",
   "metadata": {},
   "outputs": [
    {
     "data": {
      "text/plain": [
       "array([[ 5,  7],\n",
       "       [15, 17]])"
      ]
     },
     "execution_count": 30,
     "metadata": {},
     "output_type": "execute_result"
    }
   ],
   "source": [
    "#5 7 15  17\n",
    "a[1:4:2,0:3:2]"
   ]
  },
  {
   "cell_type": "code",
   "execution_count": null,
   "id": "79081785",
   "metadata": {},
   "outputs": [],
   "source": []
  }
 ],
 "metadata": {
  "colab": {
   "provenance": []
  },
  "kernelspec": {
   "display_name": "Python 3 (ipykernel)",
   "language": "python",
   "name": "python3"
  },
  "language_info": {
   "codemirror_mode": {
    "name": "ipython",
    "version": 3
   },
   "file_extension": ".py",
   "mimetype": "text/x-python",
   "name": "python",
   "nbconvert_exporter": "python",
   "pygments_lexer": "ipython3",
   "version": "3.9.12"
  }
 },
 "nbformat": 4,
 "nbformat_minor": 5
}
