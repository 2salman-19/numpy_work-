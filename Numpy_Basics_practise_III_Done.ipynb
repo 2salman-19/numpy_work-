{
 "cells": [
  {
   "cell_type": "code",
   "execution_count": 1,
   "metadata": {
    "id": "qQxFQvrEEKqm"
   },
   "outputs": [],
   "source": [
    "import numpy as np"
   ]
  },
  {
   "cell_type": "markdown",
   "metadata": {
    "id": "5dL78wl-ElhS"
   },
   "source": [
    "# Q.1\n",
    "**Statement:** You are working with a retail store that needs to manage its inventory efficiently. They have provided you with a dataset containing information about products, their quantities in stock, and the number of units sold daily for the past week. Total number of products are 5. Your task is to calculate the following:\n",
    "\n",
    "\n",
    "\n",
    "1.The total sales for each product over the past week.\n",
    "\n",
    "2.The average daily sales for each product.\n",
    "\n",
    "3.The product with the highest sales.\n",
    "\n",
    "4.The product with the lowest sales.\n",
    "\n",
    "5.The total sales for all products combined.\n",
    "\n",
    "You are required to use NumPy for efficient data processing and calculations. Write code to solve this inventory management problem."
   ]
  },
  {
   "cell_type": "code",
   "execution_count": 21,
   "metadata": {
    "id": "DxtXsLXRVpdW"
   },
   "outputs": [
    {
     "name": "stdout",
     "output_type": "stream",
     "text": [
      "total sales revenue for each product =  [175  72 205 204 210]\n",
      "daily sales for each product = [11.4 17.4 19.6 27.  26.4 32.2 39.2]\n",
      "higest_sale is: Product E\n",
      "lowest_sale : Product B\n",
      "the total sales revenue for all products = 866\n"
     ]
    }
   ],
   "source": [
    "import numpy as np\n",
    "\n",
    "# Sample data (replace with your actual data)\n",
    "product_names = np.array(['Product A', 'Product B', 'Product C', 'Product D', 'Product E'])\n",
    "quantities_in_stock = np.array([100, 150, 200, 250, 50])\n",
    "\n",
    "daily_sales_data = np.array([[10, 15, 20, 25, 30, 35, 40],\n",
    "                             [5, 7, 8, 10, 12, 14, 16],\n",
    "                             [15, 20, 25, 30, 35, 40, 40],\n",
    "                             [12, 25, 20, 40, 20, 32, 55],\n",
    "                             [15, 20, 25, 30, 35, 40, 45]])\n",
    "\n",
    "# Calculate total sales revenue for each product over the past week\n",
    "totale_sale= np.sum(daily_sales_data, axis= 1)\n",
    "print(\"total sales revenue for each product = \",totale_sale)\n",
    "# Calculate average daily sales for each product\n",
    "daily_sale= np.mean(daily_sales_data, axis=0)\n",
    "print(\"daily sales for each product =\",daily_sale)\n",
    "\n",
    "# Find the product with the highest and lowest sales\n",
    "higest_sale=product_names[np.argmax(totale_sale)]\n",
    "print(\"higest_sale is:\",higest_sale)\n",
    "lowest_sale=product_names[np.argmin(totale_sale)]\n",
    "print(\"lowest_sale :\",lowest_sale)\n",
    "# Calculate the total sales revenue for all products combined\n",
    "totale_all_rev=np. sum(daily_sales_data)\n",
    "print(\"the total sales revenue for all products =\", totale_all_rev)"
   ]
  },
  {
   "cell_type": "markdown",
   "metadata": {
    "id": "ICk1qoQHVwDc"
   },
   "source": [
    "# Q.2\n",
    "**Statement:** Statement: You are working with a manufacturing plant that produces various components. They have provided you with data on the production rates of five different machines over the past month. Your task is to analyze the performance of these machines by calculating the following metrics:\n",
    "\n",
    "1.The total production output for each machine over the past month.\n",
    "\n",
    "2.The average daily production rate for each machine.\n",
    "\n",
    "3.The machine with the highest total production output.\n",
    "\n",
    "4.The machine with the lowest total production output.\n",
    "\n",
    "The overall production efficiency of the plant, which is defined as the ratio of the total production output to the total number of hours worked, and working hour for each day is 2 hours."
   ]
  },
  {
   "cell_type": "code",
   "execution_count": 30,
   "metadata": {
    "id": "lIu6pfmgbUQd"
   },
   "outputs": [
    {
     "name": "stdout",
     "output_type": "stream",
     "text": [
      "[[192 118 159 195 115]\n",
      " [130 198 150 166 145]\n",
      " [136 108 130 144 173]\n",
      " [149 114 116 112 191]\n",
      " [166 167 124 155 199]\n",
      " [198 160 186 170 194]\n",
      " [145 143 180 186 151]\n",
      " [172 158 170 118 135]\n",
      " [115 122 122 132 145]\n",
      " [148 109 182 181 133]\n",
      " [197 144 194 139 146]\n",
      " [152 137 147 162 134]\n",
      " [123 154 150 126 198]\n",
      " [187 113 167 189 181]\n",
      " [186 110 129 185 165]\n",
      " [183 185 170 135 131]\n",
      " [189 177 147 194 141]\n",
      " [176 143 180 104 134]\n",
      " [179 144 120 178 171]\n",
      " [108 157 177 140 197]\n",
      " [136 155 124 198 196]\n",
      " [129 110 189 176 185]\n",
      " [153 149 179 148 154]\n",
      " [115 133 187 169 140]\n",
      " [169 161 179 145 124]\n",
      " [146 139 138 113 184]\n",
      " [113 159 192 130 193]\n",
      " [155 136 196 143 104]\n",
      " [140 114 151 145 143]\n",
      " [190 142 137 157 134]]\n",
      "total production output for each machine over the past month : [4677 4259 4772 4635 4736]\n",
      "Calculate average daily production rate for each machine:  [155.9        141.96666667 159.06666667 154.5        157.86666667]\n",
      "Higest_production is: Machine 3\n",
      "Lowest_production is: Machine 2\n",
      "overall production efficiency of the plant = 23079\n"
     ]
    }
   ],
   "source": [
    "# Sample data (replace with your actual data)\n",
    "Machine_Names= np.array(['Machine 1', 'Machine 2', 'Machine 3', 'Machine 4', 'Machine 5'])\n",
    "\n",
    "# Generate random production rates between 100 and 200 for 5 machines and 30 days\n",
    "production_rates = np.random.randint(100, 201, size=(30, 5))\n",
    "print(production_rates)\n",
    "\n",
    "# Calculate total production output for each machine over the past month\n",
    "total_production=np.sum(production_rates, axis=0)\n",
    "print(\"total production output for each machine over the past month :\", total_production)\n",
    "# Calculate average daily production rate for each machine\n",
    "average_daily_production=np.mean(production_rates, axis=0)\n",
    "print(\"Calculate average daily production rate for each machine: \",average_daily_production)\n",
    "# Find the machine with the highest and lowest total production output\n",
    "higest_production=Machine_Names[np.argmax(total_production)]\n",
    "print(\"Higest_production is:\",higest_production)\n",
    "lowest_production=Machine_Names[np.argmin(total_production)]\n",
    "print(\"Lowest_production is:\",lowest_production)\n",
    "# Calculate the overall production efficiency of the plant\n",
    "totale_efficiency=np.sum(production_rates)\n",
    "print(\"overall production efficiency of the plant =\", totale_efficiency)\n"
   ]
  },
  {
   "cell_type": "markdown",
   "metadata": {
    "id": "Ayc9TG-vff7A"
   },
   "source": [
    "# Q3:\n",
    "\n",
    "**Statment**\n",
    "You are working on a project that involves simulating sensor data for a network of 10 sensors over a period of 15 days. Each sensor collects data once per hour. Your task is to generate a NumPy array named sensor_data to represent this simulated sensor data and perform following statistical analysis on it.\n",
    "\n",
    "Populate the sensor_data array with random floating-point values between 0.0 and 100.0\n",
    "The generated values should represent sensor readings collected once per hour.\n",
    "\n",
    "After generating the sensor_data array, perform the following statistical **calculations:**\n",
    "\n",
    "1.Calculate the mean (average) sensor reading for each sensor over the 15 days.\n",
    "\n",
    "2.Calculate the standard deviation of sensor readings for each sensor.\n",
    "\n",
    "3.Calculate the maximum sensor reading for each sensor.\n",
    "\n",
    "4.Calculate the minimum sensor reading for each sensor.\n",
    "\n",
    "5.Calculate the overall mean sensor reading for all sensors and all days.\n",
    "\n",
    "6.Calculate the overall standard deviation of sensor readings for all sensors an"
   ]
  },
  {
   "cell_type": "code",
   "execution_count": 116,
   "metadata": {
    "id": "TWSK9GA1gfz0"
   },
   "outputs": [
    {
     "name": "stdout",
     "output_type": "stream",
     "text": [
      "sensor reading for each sensor over the 15 days: [49.54400977 47.63013479 50.06273374 50.49631455 48.80430992 50.06126104\n",
      " 48.90891005 48.71343676 48.33262683 48.72779301]\n",
      "the standard deviation of sensor readings for each sensor: [28.62675522 28.54713236 29.52520401 28.22557223 29.19351426 29.16188288\n",
      " 29.2371798  29.21511214 28.77004241 29.81318144]\n",
      "the maximum sensor reading for each sensor: [99.49027493 99.95928107 99.83538421 99.92300953 99.37002511 99.96844281\n",
      " 99.85874411 99.70219437 99.38669446 99.72625599]\n",
      "the minimum sensor reading for each sensor: [0.23543881 0.23913693 0.14728221 0.09179904 0.03443391 0.14637612\n",
      " 0.13490736 0.16111732 0.30266436 0.52347293]\n",
      "the overall mean sensor reading for all sensors and all days: 49.128153047217104\n",
      "the overall standard deviation of sensor readings for all sensors: 29.04746947705667\n"
     ]
    }
   ],
   "source": [
    "import numpy as np\n",
    "\n",
    "# Data Generation Requirements\n",
    "num_sensors = 10\n",
    "num_days = 15\n",
    "hours_per_day = 24\n",
    "shape = (10, 15 * 24)\n",
    "sensor_data = np.random.uniform(0.0, 100.0, size=shape)\n",
    "sensor_data\n",
    "#1.Calculate the mean (average) sensor reading for each sensor over the 15 days.\n",
    "avg_sensor_reading=np.mean(sensor_data,axis=1)\n",
    "print(\"sensor reading for each sensor over the 15 days:\", avg_sensor_reading)\n",
    "#2.Calculate the standard deviation of sensor readings for each sensor.\n",
    "std_sensor=np.std(sensor_data, axis=1)\n",
    "print(\"the standard deviation of sensor readings for each sensor:\",std_sensor )\n",
    "#3.Calculate the maximum sensor reading for each sensor.\n",
    "maximum_sensor_reading=np.max(sensor_data, axis=1)\n",
    "print(\"the maximum sensor reading for each sensor:\", maximum_sensor_reading)\n",
    "#4.Calculate the minimum sensor reading for each sensor.\n",
    "minimum_sensor_reading=np.min(sensor_data, axis=1)\n",
    "print(\"the minimum sensor reading for each sensor:\", minimum_sensor_reading)\n",
    "#5.Calculate the overall mean sensor reading for all sensors and all days.\n",
    "overall_mean_sensor_reading=np.mean(sensor_data)\n",
    "print(\"the overall mean sensor reading for all sensors and all days:\",overall_mean_sensor_reading)\n",
    "#6.Calculate the overall standard deviation of sensor readings for all sensors an\n",
    "overall_standard_deviation= np.std(sensor_data)\n",
    "print(\"the overall standard deviation of sensor readings for all sensors:\",overall_standard_deviation)"
   ]
  },
  {
   "cell_type": "markdown",
   "metadata": {
    "id": "IShr0NSyhcEc"
   },
   "source": [
    "# Q4:\n",
    "\n",
    "**Statement**: You are tasked with analyzing the exam scores of 30 students in a class over a period of 10 exams. The exam scores are represented as a NumPy, where each row corresponds to a different student, and each column represents their score in a specific exam.\n",
    "\n",
    "Populate the exam_scores array with random integer values between 50 and 100 to simulate students' exam performance.\n",
    "\n",
    "After generating the exam_scores array, perform the following tasks:\n",
    "\n",
    "1.Calculate the average score for each student over the 10 exams.\n",
    "\n",
    "2.Calculate the standard deviation of scores for each student.\n",
    "\n",
    "3.Identify students who have consistently performed well, defined as those whose average score is above 85.\n",
    "\n",
    "4.Identify students who may need additional support, defined as those whose average score is below 50.\n",
    "\n",
    "Write code to create and populate the exam_scores array and then perform the specified statistical analysis and performance evaluation tasks on the data.\n",
    "\n",
    "\n",
    "\n"
   ]
  },
  {
   "cell_type": "code",
   "execution_count": 111,
   "metadata": {
    "id": "F3p_SMeoiT2o"
   },
   "outputs": [
    {
     "name": "stdout",
     "output_type": "stream",
     "text": [
      "the average score for each student over the 10 exams: [57.6 61.1 84.1 73.9 76.2 72.6 77.3 77.1 74.3 76.7 69.8 79.2 84.7 78.2\n",
      " 70.2 73.5 73.  73.2 62.1 75.5 79.4 84.4 79.6 80.6 80.8 74.5 69.6 69.\n",
      " 72.4 65.7]\n",
      "The standard deviation of scores for each student [ 9.39361485  8.91571646 10.7373181   9.68968524 12.55229063 13.15446692\n",
      " 15.03362897 11.44945414 18.74059764 12.52237997 13.06751698 11.93147099\n",
      " 11.84103036 14.26043478 16.12947612 13.56650287 13.35664629 12.3434193\n",
      "  6.84762733 16.53632365 11.62067124 14.94790955 13.16966211 11.52562363\n",
      " 15.09171958 15.08144555 11.00181803 12.19836055 17.31588866  9.11098238]\n",
      "students who have consistently performed well : []\n",
      "students who may need additional support:  [0]\n"
     ]
    }
   ],
   "source": [
    "import numpy as np\n",
    "\n",
    "# Create the exam_scores array (30 students, 10 exams)\n",
    "num_students = 30\n",
    "num_exams = 10\n",
    "# Populate the exam_scores array with random scores between 50 and 100\n",
    "exam_score=np.random.randint(50,101, size=(num_students,num_exams))\n",
    "# 1. Calculate the average score for each student over the 10 exams\n",
    "avg_score_all_students=np.mean(exam_score, axis=1)\n",
    "print(\"the average score for each student over the 10 exams:\",avg_score_all_students)\n",
    "# 2. Calculate the standard deviation of scores for each student\n",
    "std_of_scores=np.std(exam_score, axis=1)\n",
    "print(\"The standard deviation of scores for each student\",std_of_scores)\n",
    "# 3. Identify students who have consistently performed well (average score > 85)\n",
    "perform_well_student=np.where(avg_score_all_students>85)[0]\n",
    "print(\"students who have consistently performed well :\",perform_well_student)\n",
    "# 4. Identify students who may need additional support (average score < 60)\n",
    "student_needing_suppory=np.where(avg_score_all_students<60)[0]\n",
    "print(\"students who may need additional support: \",student_needing_suppory )\n"
   ]
  }
 ],
 "metadata": {
  "colab": {
   "provenance": []
  },
  "kernelspec": {
   "display_name": "Python 3 (ipykernel)",
   "language": "python",
   "name": "python3"
  },
  "language_info": {
   "codemirror_mode": {
    "name": "ipython",
    "version": 3
   },
   "file_extension": ".py",
   "mimetype": "text/x-python",
   "name": "python",
   "nbconvert_exporter": "python",
   "pygments_lexer": "ipython3",
   "version": "3.9.12"
  }
 },
 "nbformat": 4,
 "nbformat_minor": 1
}
