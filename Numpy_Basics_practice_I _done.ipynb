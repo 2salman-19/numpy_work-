{
 "cells": [
  {
   "cell_type": "markdown",
   "metadata": {
    "id": "YmwKgUrAkbfG"
   },
   "source": [
    "# Numpy Basics Exercises\n",
    "\n",
    "Please complete the following exercises **using numpy only**."
   ]
  },
  {
   "cell_type": "markdown",
   "metadata": {
    "id": "vpo3azRubEMA"
   },
   "source": [
    "# Array Functions\n",
    "1.Arange([start,] stop[, step],dtype=None)\n",
    "Nearly identical to Python’s range(). Creates an array of values in the range [start,stop) with the specified step value. Allows non-integer values for start, stop, and step. Default dtype is derived from the start, stop, and step values. create an array with arange."
   ]
  },
  {
   "cell_type": "code",
   "execution_count": 3,
   "metadata": {
    "id": "31t0LaJ3bEMB"
   },
   "outputs": [
    {
     "data": {
      "text/plain": [
       "array([1. , 1.5, 2. , 2.5, 3. , 3.5, 4. , 4.5, 5. , 5.5, 6. , 6.5, 7. ,\n",
       "       7.5, 8. , 8.5, 9. , 9.5])"
      ]
     },
     "execution_count": 3,
     "metadata": {},
     "output_type": "execute_result"
    }
   ],
   "source": [
    "import numpy as np\n",
    "# code here (you may create an array of your own choice)\n",
    "a=np.arange(1.0,10.0,0.5)\n",
    "a"
   ]
  },
  {
   "cell_type": "markdown",
   "metadata": {
    "id": "MfAFU0VibEMD"
   },
   "source": [
    "2.Create arrays with ONES, ZEROS, shape is a number or sequence specifying the dimensions of the array. If dtype is not specified, it defaults to float64."
   ]
  },
  {
   "cell_type": "code",
   "execution_count": 6,
   "metadata": {
    "id": "8ebuyMSkbEMD"
   },
   "outputs": [
    {
     "data": {
      "text/plain": [
       "array([[1., 1., 1.],\n",
       "       [1., 1., 1.]])"
      ]
     },
     "execution_count": 6,
     "metadata": {},
     "output_type": "execute_result"
    }
   ],
   "source": [
    "# code here (you may create an array of your choice of size)\n",
    "arr=np.ones((2,3))\n",
    "arr"
   ]
  },
  {
   "cell_type": "code",
   "execution_count": 8,
   "metadata": {},
   "outputs": [
    {
     "data": {
      "text/plain": [
       "array([[0., 0., 0.],\n",
       "       [0., 0., 0.]])"
      ]
     },
     "execution_count": 8,
     "metadata": {},
     "output_type": "execute_result"
    }
   ],
   "source": [
    "arr1=np.zeros((2,3))\n",
    "arr1"
   ]
  },
  {
   "cell_type": "markdown",
   "metadata": {
    "id": "2EiFTfIibEMD"
   },
   "source": [
    "3.Generate an n by n identity array. The default dtype is float64."
   ]
  },
  {
   "cell_type": "code",
   "execution_count": 10,
   "metadata": {
    "id": "W328-ggzbEMD"
   },
   "outputs": [
    {
     "data": {
      "text/plain": [
       "array([[1., 0., 0.],\n",
       "       [0., 1., 0.],\n",
       "       [0., 0., 1.]])"
      ]
     },
     "execution_count": 10,
     "metadata": {},
     "output_type": "execute_result"
    }
   ],
   "source": [
    "# code here (you may create an array of your choice of size)\n",
    "arr2=np.identity(3)\n",
    "arr2"
   ]
  },
  {
   "cell_type": "markdown",
   "metadata": {
    "id": "VpIlaZHJbEME"
   },
   "source": [
    "4.use empty, full, and fill, max, min, std, mean, var, argmax, linspace"
   ]
  },
  {
   "cell_type": "code",
   "execution_count": 25,
   "metadata": {
    "id": "ze1PCT8xbEME"
   },
   "outputs": [
    {
     "data": {
      "text/plain": [
       "array([0.  , 0.25, 0.5 , 0.75, 1.  ])"
      ]
     },
     "execution_count": 25,
     "metadata": {},
     "output_type": "execute_result"
    }
   ],
   "source": [
    "# code here (use the array createed in Question 1 for this)\n",
    "np.empty(2)\n",
    "b=np.full(3,5.0)\n",
    "b\n",
    "a.max()\n",
    "a.min()\n",
    "a.std()\n",
    "a.mean()\n",
    "a.var()\n",
    "a.argmax()\n",
    "np.linspace(0,1,5)"
   ]
  },
  {
   "cell_type": "markdown",
   "metadata": {
    "id": "N8D2KaVEbEME"
   },
   "source": [
    "5. Create the array below with a = np.arange(-15, 15).reshape(5, 6) ** 2\n",
    "\n",
    "  Rule 1:\n",
    "  Operations between multiple array objects are first checked for proper shape match.\n",
    "\n",
    "  Rule 2:\n",
    "  Mathematical operators (+ - * / exp, log, ...) apply element by element, on the values.\n",
    "\n",
    "  Rule 3:\n",
    "  Reduction operations (mean, std, skew, kurt, sum, prod, ...) apply to the whole array, unless an axis is specified.\n",
    "\n",
    "  Rule 4:\n",
    "  Missing values propagate unless explicitly ignored (nanmean, nansum, ...)."
   ]
  },
  {
   "cell_type": "code",
   "execution_count": 45,
   "metadata": {
    "id": "SfR3QRNXbEME"
   },
   "outputs": [
    {
     "data": {
      "text/plain": [
       "array([[5.20305514e+97, 1.32348326e+85, 2.48752493e+73, 3.45466066e+62,\n",
       "        3.54513118e+52, 2.68811714e+43],\n",
       "       [1.50609731e+35, 6.23514908e+27, 1.90734657e+21, 4.31123155e+15,\n",
       "        7.20048993e+10, 8.88611052e+06],\n",
       "       [8.10308393e+03, 5.45981500e+01, 2.71828183e+00, 1.00000000e+00,\n",
       "        2.71828183e+00, 5.45981500e+01],\n",
       "       [8.10308393e+03, 8.88611052e+06, 7.20048993e+10, 4.31123155e+15,\n",
       "        1.90734657e+21, 6.23514908e+27],\n",
       "       [1.50609731e+35, 2.68811714e+43, 3.54513118e+52, 3.45466066e+62,\n",
       "        2.48752493e+73, 1.32348326e+85]])"
      ]
     },
     "execution_count": 45,
     "metadata": {},
     "output_type": "execute_result"
    }
   ],
   "source": [
    "# code here and try to figure out different functions on your own (as stated in Rule 3, also figure out how to propogate missing values as stated in Rule 4)\n",
    "c = np.arange(-15, 15).reshape(5, 6) ** 2\n",
    "c.shape\n",
    "\n",
    "# mean_val = np.mean(c)# Mean of the array\n",
    "# mean_val\n",
    "# sum_val = np.sum(c) # Sum of the array\n",
    "# sum_val\n",
    "# std_val = np.std(c)           # Standard deviation\n",
    "# std_val\n",
    "# prod_val = np.prod(c)\n",
    "# prod_val\n",
    "# d= c+10\n",
    "# d\n",
    "e=c-3\n",
    "e\n",
    "f=c/4\n",
    "f\n",
    "h=np.sqrt(c)\n",
    "h\n",
    "g=np.exp(c)\n",
    "g"
   ]
  },
  {
   "cell_type": "markdown",
   "metadata": {
    "id": "ir_VH1IjbEMF"
   },
   "source": [
    "6.Create the array below with\n",
    "                  a = np.arange(-15, 15).reshape(5, 6) ** 2\n",
    "1. The maximum of each row\n",
    "2. The mean of each column\n",
    "3. The position of the overall minimum"
   ]
  },
  {
   "cell_type": "code",
   "execution_count": 47,
   "metadata": {
    "id": "XcuNU8TcbEMF"
   },
   "outputs": [
    {
     "name": "stdout",
     "output_type": "stream",
     "text": [
      "[[225 196 169 144 121 100]\n",
      " [ 81  64  49  36  25  16]\n",
      " [  9   4   1   0   1   4]\n",
      " [  9  16  25  36  49  64]\n",
      " [ 81 100 121 144 169 196]]\n"
     ]
    },
    {
     "data": {
      "text/plain": [
       "array([225,  81,   9,  64, 196])"
      ]
     },
     "execution_count": 47,
     "metadata": {},
     "output_type": "execute_result"
    }
   ],
   "source": [
    "# code here and display all 3 values appropriately. You MUST NOT choose an array of your own choice.\n",
    "i= np.arange(-15, 15).reshape(5, 6) ** 2\n",
    "print(i)\n",
    "np.max(i,axis=1) #The maximum of each row"
   ]
  },
  {
   "cell_type": "code",
   "execution_count": 49,
   "metadata": {},
   "outputs": [
    {
     "data": {
      "text/plain": [
       "array([81., 76., 73., 72., 73., 76.])"
      ]
     },
     "execution_count": 49,
     "metadata": {},
     "output_type": "execute_result"
    }
   ],
   "source": [
    "#The mean of each column\n",
    "np.mean(i,axis=0)"
   ]
  },
  {
   "cell_type": "code",
   "execution_count": 51,
   "metadata": {},
   "outputs": [
    {
     "data": {
      "text/plain": [
       "(2, 3)"
      ]
     },
     "execution_count": 51,
     "metadata": {},
     "output_type": "execute_result"
    }
   ],
   "source": [
    "#The position of the overall minimum\n",
    "np.unravel_index(i.argmin(), i.shape)"
   ]
  },
  {
   "cell_type": "markdown",
   "metadata": {
    "id": "oWtZzrvXjxVl"
   },
   "source": [
    "# Array Broadcasting\n",
    "NumPy arrays of different dimensionality can be combined in the same expression. Arrays with smaller dimension are broadcasted to match the larger arrays, without copying data.\n",
    "\n",
    "Broadcasting has two rules.\n",
    "\n",
    "RULE 1: PREPEND ONES TO SMALLER ARRAY'S SHAPE\n",
    "\n",
    "RULE 2: DIMENSIONS OF SIZE 1 ARE REPEATED WITHOUT COPYING"
   ]
  },
  {
   "cell_type": "code",
   "execution_count": 59,
   "metadata": {
    "id": "7vrTvmEWjwtY"
   },
   "outputs": [
    {
     "name": "stdout",
     "output_type": "stream",
     "text": [
      "[[ 8 10  8  9]\n",
      " [12 14 14 11]\n",
      " [13 13  7 13]\n",
      " [ 3 11  8  4]\n",
      " [ 8  8  9  9]]\n",
      "[[ 4  6  4  5]\n",
      " [ 2  4  4  1]\n",
      " [ 1  1 -5  1]\n",
      " [-1  7  4  0]\n",
      " [ 6  6  7  7]]\n"
     ]
    }
   ],
   "source": [
    "#code here # Create 2 arrays A and B with dim (5,4) and (5,) respectively, apply addition and subtraction.\n",
    "arra = np.random.randint(1, 10, (5, 4))\n",
    "arra1=np.random.randint(1, 10, (5,))\n",
    "addition_result = arra + arra1[:, np.newaxis]\n",
    "subtraction_result = arra - arra1[:, np.newaxis]\n",
    "print(addition_result)\n",
    "print(subtraction_result)"
   ]
  },
  {
   "cell_type": "markdown",
   "metadata": {
    "id": "Qp9UkMByj5Il"
   },
   "source": [
    "1.Use reduce() operation on an array to reduec it into a single meaningful value. You. can also use a specific axis to apply reduce operation.\n",
    "\n",
    "2.accumulate() creates a new array containing the intermediate results of the reduce operation at each element in a.\n"
   ]
  },
  {
   "cell_type": "code",
   "execution_count": 61,
   "metadata": {
    "id": "nmLsvmTZj626"
   },
   "outputs": [
    {
     "name": "stdout",
     "output_type": "stream",
     "text": [
      "[[6 8 6 7]\n",
      " [7 9 9 6]\n",
      " [7 7 1 7]\n",
      " [1 9 6 2]\n",
      " [7 7 8 8]]\n"
     ]
    },
    {
     "data": {
      "text/plain": [
       "array([28, 40, 30, 30])"
      ]
     },
     "execution_count": 61,
     "metadata": {},
     "output_type": "execute_result"
    }
   ],
   "source": [
    "# Answer here (use both of these functions on an array of your own choice)\n",
    "print(arra)\n",
    "np.add.reduce(arra)"
   ]
  },
  {
   "cell_type": "code",
   "execution_count": 62,
   "metadata": {},
   "outputs": [
    {
     "name": "stdout",
     "output_type": "stream",
     "text": [
      "[2 5 6 2 1]\n"
     ]
    },
    {
     "data": {
      "text/plain": [
       "16"
      ]
     },
     "execution_count": 62,
     "metadata": {},
     "output_type": "execute_result"
    }
   ],
   "source": [
    "print(arra1)\n",
    "np.add.reduce(arra1)"
   ]
  },
  {
   "cell_type": "code",
   "execution_count": 63,
   "metadata": {},
   "outputs": [
    {
     "data": {
      "text/plain": [
       "array([ 1,  3,  6, 10, 15])"
      ]
     },
     "execution_count": 63,
     "metadata": {},
     "output_type": "execute_result"
    }
   ],
   "source": [
    "j=np.array([1,2,3,4,5])\n",
    "np.add.accumulate(j)"
   ]
  },
  {
   "cell_type": "markdown",
   "metadata": {
    "id": "bqVyb4DKZmkR"
   },
   "source": [
    "### We will work with the following array:"
   ]
  },
  {
   "cell_type": "code",
   "execution_count": 77,
   "metadata": {
    "colab": {
     "base_uri": "https://localhost:8080/"
    },
    "id": "Iz86eeTWZmsK",
    "outputId": "657f8c8d-0a3b-44b8-e0fe-6de9614c11c1"
   },
   "outputs": [
    {
     "data": {
      "text/plain": [
       "array([[ 0,  1,  2,  3,  4],\n",
       "       [ 5,  6,  7,  8,  9],\n",
       "       [10, 11, 12, 13, 14],\n",
       "       [15, 16, 17, 18, 19],\n",
       "       [20, 21, 22, 23, 24]])"
      ]
     },
     "execution_count": 77,
     "metadata": {},
     "output_type": "execute_result"
    }
   ],
   "source": [
    "k = np.arange(25).reshape(5, 5)\n",
    "k\n",
    "#moving forward, you must use this array for the operations"
   ]
  },
  {
   "cell_type": "markdown",
   "metadata": {
    "id": "OdjK0hqobWGp"
   },
   "source": [
    "# Use slicing only to select 3rd and last row along with 2nd and last columns"
   ]
  },
  {
   "cell_type": "code",
   "execution_count": 78,
   "metadata": {
    "id": "-iw2ciaibUHU"
   },
   "outputs": [
    {
     "data": {
      "text/plain": [
       "array([[11, 14],\n",
       "       [21, 24]])"
      ]
     },
     "execution_count": 78,
     "metadata": {},
     "output_type": "execute_result"
    }
   ],
   "source": [
    "# Answer here\n",
    "k[[2, -1], :][:, [1, -1]]"
   ]
  },
  {
   "cell_type": "markdown",
   "metadata": {
    "id": "5PtInLvEb7Am"
   },
   "source": [
    "# Extract the following sub-array: [[2, 3], [12, 13], [22, 23]]"
   ]
  },
  {
   "cell_type": "code",
   "execution_count": 69,
   "metadata": {
    "id": "lVi9eV2rb6hz"
   },
   "outputs": [
    {
     "data": {
      "text/plain": [
       "array([[ 2,  3],\n",
       "       [12, 13],\n",
       "       [22, 23]])"
      ]
     },
     "execution_count": 69,
     "metadata": {},
     "output_type": "execute_result"
    }
   ],
   "source": [
    "# Answer here\n",
    "k[0:5:2, 2:4]"
   ]
  },
  {
   "cell_type": "markdown",
   "metadata": {
    "id": "mHN-ADlNcRE7"
   },
   "source": [
    "# Combine fancy/location indexing with slicing to extract the following sub-array: [[6, 8], [16, 18], [21, 23]]"
   ]
  },
  {
   "cell_type": "code",
   "execution_count": 70,
   "metadata": {
    "id": "e_R0tbMHcNGy"
   },
   "outputs": [
    {
     "data": {
      "text/plain": [
       "array([[ 6,  8],\n",
       "       [16, 18],\n",
       "       [21, 23]])"
      ]
     },
     "execution_count": 70,
     "metadata": {},
     "output_type": "execute_result"
    }
   ],
   "source": [
    "# Answer here\n",
    "k[[1, 3, 4], 1:5:2]"
   ]
  },
  {
   "cell_type": "markdown",
   "metadata": {
    "id": "gRle44JLc8oL"
   },
   "source": [
    "# Change the values 1, 10, 19 and 22 in the array to -2"
   ]
  },
  {
   "cell_type": "code",
   "execution_count": 73,
   "metadata": {
    "id": "MnIs-SBzdMPv"
   },
   "outputs": [
    {
     "data": {
      "text/plain": [
       "array([[ 0, -2,  2,  3,  4],\n",
       "       [ 5,  6,  7,  8,  9],\n",
       "       [-2, 11, 12, 13, 14],\n",
       "       [15, 16, 17, 18, -2],\n",
       "       [20, 21, -2, 23, 24]])"
      ]
     },
     "execution_count": 73,
     "metadata": {},
     "output_type": "execute_result"
    }
   ],
   "source": [
    "# Answer\n",
    "k[[0, 2, 3, 4], [1, 0, 4, 2]] = -2\n",
    "k\n"
   ]
  },
  {
   "cell_type": "markdown",
   "metadata": {
    "id": "tWSQO5e3dZxf"
   },
   "source": [
    "# Repeat above using boolean indexing"
   ]
  },
  {
   "cell_type": "code",
   "execution_count": 75,
   "metadata": {
    "id": "zytB7nrMdYfT"
   },
   "outputs": [
    {
     "data": {
      "text/plain": [
       "array([[ 0, -2,  2,  3,  4],\n",
       "       [ 5,  6,  7,  8,  9],\n",
       "       [-2, 11, 12, 13, 14],\n",
       "       [15, 16, 17, 18, -2],\n",
       "       [20, 21, -2, 23, 24]])"
      ]
     },
     "execution_count": 75,
     "metadata": {},
     "output_type": "execute_result"
    }
   ],
   "source": [
    "# Answer here\n",
    "k[k == 1] = -2\n",
    "k[k  == 10] = -2\n",
    "k[k  == 19] = -2\n",
    "k[k  == 22] = -2\n",
    "k"
   ]
  },
  {
   "cell_type": "markdown",
   "metadata": {
    "id": "2i_7lkqpdhtx"
   },
   "source": [
    "# Combine slicing in the column dimension and boolean indexing in row dimension to extract the following sub-array: [[0, 3], [10, 13], [15, 18]]"
   ]
  },
  {
   "cell_type": "code",
   "execution_count": 87,
   "metadata": {
    "id": "O8683ef2dYng"
   },
   "outputs": [
    {
     "name": "stdout",
     "output_type": "stream",
     "text": [
      "[[ 0  1  2  3  4]\n",
      " [ 5  6  7  8  9]\n",
      " [10 11 12 13 14]\n",
      " [15 16 17 18 19]\n",
      " [20 21 22 23 24]]\n",
      "[ True False  True  True]\n",
      "[[ 0  3]\n",
      " [ 5  8]\n",
      " [10 13]\n",
      " [15 18]\n",
      " [20 23]]\n"
     ]
    }
   ],
   "source": [
    "# Answer here\n",
    "k = np.arange(25).reshape(5, 5)\n",
    "print(k)\n",
    "# Boolean indexing for specific rows (1st, 3rd, and 4th rows)\n",
    "row_mask = np.array([True, False, True, True])\n",
    "print(row_mask)\n",
    "\n",
    "# Slicing for columns (1st and 4th columns)\n",
    "sub_array = k[:, [0, 3]]\n",
    "print(sub_array)"
   ]
  },
  {
   "cell_type": "markdown",
   "metadata": {
    "id": "BLH29N-KLDEJ"
   },
   "source": [
    "# Calculating the sum, min and max of all diagonal values"
   ]
  },
  {
   "cell_type": "code",
   "execution_count": 92,
   "metadata": {
    "id": "ARzj6VP9LCPz"
   },
   "outputs": [
    {
     "data": {
      "text/plain": [
       "24"
      ]
     },
     "execution_count": 92,
     "metadata": {},
     "output_type": "execute_result"
    }
   ],
   "source": [
    "# Answer here\n",
    "k+10\n",
    "k.min()\n",
    "k.max()"
   ]
  },
  {
   "cell_type": "markdown",
   "metadata": {
    "id": "IIL3aHfpMQpr"
   },
   "source": [
    "# Calculate the sum of differences between the 2nd row and 2nd last column"
   ]
  },
  {
   "cell_type": "code",
   "execution_count": 93,
   "metadata": {
    "id": "mNyxI8d0Mcvz"
   },
   "outputs": [],
   "source": [
    "# Answer here\n",
    "# Step 1: Extract the 2nd row (index 1)\n",
    "second_row = k[1]\n",
    "\n",
    "# Step 2: Extract the 2nd last column (index -2)\n",
    "second_last_column = k[:, -2]\n",
    "\n",
    "# Step 3: Calculate the differences\n",
    "differences = second_row - second_last_column\n",
    "\n",
    "# Step 4: Calculate the sum of differences\n",
    "sum_of_differences = np.sum(differences)\n"
   ]
  },
  {
   "cell_type": "markdown",
   "metadata": {
    "id": "jEo7E6YNNIU5"
   },
   "source": [
    "# Create a new array that is the sum of even rows and odd rows"
   ]
  },
  {
   "cell_type": "code",
   "execution_count": 94,
   "metadata": {
    "id": "UEwbxwAPNikT"
   },
   "outputs": [
    {
     "name": "stdout",
     "output_type": "stream",
     "text": [
      "New array with sums of even and odd rows:\n",
      " [[30 33 36 39 42]\n",
      " [20 22 24 26 28]]\n"
     ]
    }
   ],
   "source": [
    "# Answer here\n",
    "arr = np.array([[ 0,  1,  2,  3,  4],\n",
    "                [ 5,  6,  7,  8,  9],\n",
    "                [10, 11, 12, 13, 14],\n",
    "                [15, 16, 17, 18, 19],\n",
    "                [20, 21, 22, 23, 24]])\n",
    "\n",
    "# Step 1: Extract even-indexed rows (0, 2, 4)\n",
    "even_rows = arr[::2]  # This selects every 2nd row starting from index 0\n",
    "\n",
    "# Step 2: Extract odd-indexed rows (1, 3)\n",
    "odd_rows = arr[1::2]  # This selects every 2nd row starting from index 1\n",
    "\n",
    "# Step 3: Calculate the sum of even and odd rows\n",
    "sum_even_rows = np.sum(even_rows, axis=0)  # Sum along the rows\n",
    "sum_odd_rows = np.sum(odd_rows, axis=0)    # Sum along the rows\n",
    "\n",
    "# Step 4: Create a new array with the sums\n",
    "new_array = np.array([sum_even_rows, sum_odd_rows])\n",
    "\n",
    "# Display the new array\n",
    "print(\"New array with sums of even and odd rows:\\n\", new_array)"
   ]
  },
  {
   "cell_type": "markdown",
   "metadata": {
    "id": "TaKXFf_5d67q"
   },
   "source": [
    "## You are done. Good job!"
   ]
  }
 ],
 "metadata": {
  "colab": {
   "provenance": []
  },
  "kernelspec": {
   "display_name": "Python 3 (ipykernel)",
   "language": "python",
   "name": "python3"
  },
  "language_info": {
   "codemirror_mode": {
    "name": "ipython",
    "version": 3
   },
   "file_extension": ".py",
   "mimetype": "text/x-python",
   "name": "python",
   "nbconvert_exporter": "python",
   "pygments_lexer": "ipython3",
   "version": "3.9.12"
  }
 },
 "nbformat": 4,
 "nbformat_minor": 1
}
